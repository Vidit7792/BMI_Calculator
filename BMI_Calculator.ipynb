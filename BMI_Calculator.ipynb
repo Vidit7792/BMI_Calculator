{
  "nbformat": 4,
  "nbformat_minor": 0,
  "metadata": {
    "colab": {
      "name": "BMI_Calculator.ipynb",
      "provenance": []
    },
    "kernelspec": {
      "name": "python3",
      "display_name": "Python 3"
    },
    "language_info": {
      "name": "python"
    }
  },
  "cells": [
    {
      "cell_type": "code",
      "execution_count": 5,
      "metadata": {
        "id": "99MRerHHEZW2"
      },
      "outputs": [],
      "source": [
        "def bmi_imperial():\n",
        "    weight = float(input(\"Enter your weight in pounds (lb): \"))\n",
        "    height = float(input(\"Enter your height in inches: \"))\n",
        "    bmi = round(float((weight*703)/(height*height)), 2)\n",
        "    print(\"Your bmi is: \", bmi)\n",
        "\n",
        "    # BMI Classifications and health risks\n",
        "\n",
        "    if bmi < 18.5:\n",
        "        print(\"Classification: Underweight\")\n",
        "        print(\"Health risk: Low\")\n",
        "    elif 18.5 <= bmi < 25:\n",
        "        print(\"Classification: Normal weight\")\n",
        "        print(\"Health risk: Average\")\n",
        "    elif 25 <= bmi < 29.9:\n",
        "        print(\"Classification: Overweight\")\n",
        "        print(\"Health risk: Mildly increased\")\n",
        "    elif 30 <= bmi < 34.9:\n",
        "        print(\"Classification: Obese Class 1\")\n",
        "        print(\"Health risk: Moderate\")\n",
        "    elif 35 <= bmi < 39.9:\n",
        "        print(\"Classification: Obese Class 2\")\n",
        "        print(\"Health risk: Severe\")\n",
        "    elif 40 < bmi:\n",
        "        print(\"Classification: Obese Class 3\")\n",
        "        print(\"Health risk: Very Severe\")\n",
        "    else:\n",
        "        print(\"System error or incorrect BMI values. Please retry.\")\n",
        "\n",
        "    # Defining weight to be lost\n",
        "\n",
        "    normal_weight = float((24*height*height)/703)\n",
        "    weight_diff = round(float(weight-normal_weight), 2)\n",
        "    if weight_diff > 10:\n",
        "        print(\"You need to loose \", weight_diff, \"pounds.\")\n",
        "    elif 0 < weight_diff <= 10:\n",
        "        print(\"Your weight is perfect. Try to maintain it!!!\")\n",
        "    elif weight_diff < 0:\n",
        "        print(\"You need to gain \", abs(weight_diff), \"pounds.\")"
      ]
    },
    {
      "cell_type": "code",
      "source": [
        ""
      ],
      "metadata": {
        "id": "UdLMoVkVHN3f"
      },
      "execution_count": null,
      "outputs": []
    }
  ]
}